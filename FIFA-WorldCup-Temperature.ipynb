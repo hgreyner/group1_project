{
 "cells": [
  {
   "cell_type": "code",
   "execution_count": 2,
   "metadata": {},
   "outputs": [],
   "source": [
    "%matplotlib inline"
   ]
  },
  {
   "cell_type": "code",
   "execution_count": 3,
   "metadata": {},
   "outputs": [
    {
     "ename": "ModuleNotFoundError",
     "evalue": "No module named 'config'",
     "output_type": "error",
     "traceback": [
      "\u001b[1;31m---------------------------------------------------------------------------\u001b[0m",
      "\u001b[1;31mModuleNotFoundError\u001b[0m                       Traceback (most recent call last)",
      "\u001b[1;32m<ipython-input-3-dad2dd71238b>\u001b[0m in \u001b[0;36m<module>\u001b[1;34m\u001b[0m\n\u001b[0;32m     12\u001b[0m \u001b[1;33m\u001b[0m\u001b[0m\n\u001b[0;32m     13\u001b[0m \u001b[1;31m# Import API key\u001b[0m\u001b[1;33m\u001b[0m\u001b[1;33m\u001b[0m\u001b[1;33m\u001b[0m\u001b[0m\n\u001b[1;32m---> 14\u001b[1;33m \u001b[1;32mfrom\u001b[0m \u001b[0mconfig\u001b[0m \u001b[1;32mimport\u001b[0m \u001b[0mkey\u001b[0m\u001b[1;33m\u001b[0m\u001b[1;33m\u001b[0m\u001b[0m\n\u001b[0m\u001b[0;32m     15\u001b[0m \u001b[1;33m\u001b[0m\u001b[0m\n\u001b[0;32m     16\u001b[0m \u001b[1;33m\u001b[0m\u001b[0m\n",
      "\u001b[1;31mModuleNotFoundError\u001b[0m: No module named 'config'"
     ]
    }
   ],
   "source": [
    "import matplotlib.pyplot as plt\n",
    "import pandas as pd\n",
    "import numpy as np\n",
    "import requests\n",
    "import time\n",
    "from scipy.stats import linregress\n",
    "import gmaps\n",
    "import os\n",
    "import matplotlib.pyplot as plt\n",
    "import seaborn as sns\n",
    "from bs4 import BeautifulSoup as soup\n",
    "\n",
    "# Import API key\n",
    "from config import key\n",
    "\n",
    "\n",
    "#Reading the csv file\n",
    "data = pd.read_csv('Resources/matYearCountry.csv')\n",
    "\n",
    "data.head()\n",
    "\n",
    "# data.to_csv(\"countries_temp_data.csv\", encoding=\"utf-8\", index=False)"
   ]
  },
  {
   "cell_type": "code",
   "execution_count": null,
   "metadata": {
    "scrolled": true
   },
   "outputs": [],
   "source": [
    "#Sorting the countries that attended the World Cup among the whole world\n",
    "\n",
    "\n",
    "data2 = data[['France',\n",
    " 'Romania',\n",
    " 'Argentina',\n",
    " 'Chile',\n",
    " 'Uruguay',\n",
    " 'Brazil',\n",
    " 'Paraguay',\n",
    " 'Austria',\n",
    " 'Hungary',\n",
    " 'Switzerland',\n",
    " 'Sweden',\n",
    " 'Germany',\n",
    " 'Spain',\n",
    " 'Italy',\n",
    " 'Cuba',\n",
    " 'Turkey',\n",
    " 'Mexico',\n",
    " 'Portugal',\n",
    " 'Peru',\n",
    " 'Belgium',\n",
    " 'Bulgaria',\n",
    " 'Poland',\n",
    " 'Australia',\n",
    " 'Netherlands',\n",
    " 'Haiti',\n",
    " 'Tunisia',\n",
    " 'Algeria',\n",
    " 'Honduras',\n",
    " 'Canada',\n",
    " 'Morocco',\n",
    " 'Iraq',\n",
    " 'Denmark',\n",
    " 'United Arab Emirates',\n",
    " 'Costa Rica',\n",
    " 'Cameroon',\n",
    " 'Colombia',\n",
    " 'Norway',\n",
    " 'Nigeria',\n",
    " 'Saudi Arabia',\n",
    " 'Bolivia',\n",
    " 'Russia',\n",
    " 'Greece',\n",
    " 'Jamaica',\n",
    " 'South Africa',\n",
    " 'Japan',\n",
    " 'Croatia',\n",
    " 'Senegal',\n",
    " 'Slovenia',\n",
    " 'Ecuador',\n",
    " 'Angola',\n",
    " 'Czech Republic',\n",
    " 'Togo',\n",
    " 'Iran',\n",
    " 'Ghana',\n",
    " 'Ukraine',\n",
    " 'Serbia',\n",
    " 'New Zealand',\n",
    " 'Slovakia',\n",
    " 'Mexico',\n",
    " 'Belgium',\n",
    " 'Brazil',\n",
    " 'Peru',\n",
    " 'France',\n",
    " 'Bolivia',\n",
    " 'Paraguay',\n",
    " 'Romania',\n",
    " 'Chile',\n",
    " 'Argentina',\n",
    " 'Egypt',\n",
    " 'Netherlands',\n",
    " 'Switzerland',\n",
    " 'Sweden',\n",
    " 'Spain',\n",
    " 'Hungary',\n",
    " 'Austria',\n",
    " 'Germany',\n",
    " 'Norway',\n",
    " 'Poland',\n",
    " 'Cuba',\n",
    " 'Italy',\n",
    " 'Turkey',\n",
    " 'Uruguay',\n",
    " 'Colombia',\n",
    " 'Bulgaria',\n",
    " 'Portugal',\n",
    " 'Israel',\n",
    " 'Morocco',\n",
    " 'El Salvador',\n",
    " 'Australia',\n",
    " 'Haiti',\n",
    " 'Tunisia',\n",
    " 'Iran',\n",
    " 'Cameroon',\n",
    " 'New Zealand',\n",
    " 'Algeria',\n",
    " 'Honduras',\n",
    " 'Kuwait',\n",
    " 'Iraq',\n",
    " 'Denmark',\n",
    " 'Canada',\n",
    " 'United Arab Emirates',\n",
    " 'Costa Rica',\n",
    " 'Saudi Arabia',\n",
    " 'Russia',\n",
    " 'Greece',\n",
    " 'Nigeria',\n",
    " 'South Africa',\n",
    " 'Japan',\n",
    " 'Croatia',\n",
    " 'Jamaica',\n",
    " 'Senegal',\n",
    " 'Slovenia',\n",
    " 'Ecuador',\n",
    " 'Czech Republic',\n",
    " 'Ghana',\n",
    " 'Togo',\n",
    " 'Ukraine',\n",
    " 'Angola',\n",
    " 'Slovakia',\n",
    " 'Serbia']]\n",
    "\n",
    "data2.head()"
   ]
  },
  {
   "cell_type": "code",
   "execution_count": null,
   "metadata": {},
   "outputs": [],
   "source": [
    "#Since we have 13-year temperature data for each team, we need to mean the data and use it to calculate our delta...\n",
    "\n",
    "mean = data2.mean().astype(int)\n",
    "\n",
    "temp_data = pd.DataFrame(mean)\n",
    "\n",
    "temp_data = temp_data.rename(columns={0:\"Average Temperature\"})\n",
    "\n",
    "# temp_data.columns = ['Countries', 'Average Temperature']\n",
    "\n",
    "temp_data\n",
    "\n",
    "# temp_data.to_csv(\"temp_data.csv\", encoding=\"utf-8\", index=False) -----> exporting csv for the future referances\n",
    "\n",
    "\n",
    "#Reading the csv file\n",
    "\n",
    "read_data = pd.read_csv('Resources/temp_data.csv')\n",
    "\n",
    "read_data.drop_duplicates(['Countries'], keep='last') #-----> dropping the duplicates\n",
    "\n",
    "# read_data"
   ]
  },
  {
   "cell_type": "code",
   "execution_count": null,
   "metadata": {},
   "outputs": [],
   "source": [
    "#Reading the csv file\n",
    "\n",
    "\n",
    "data3 = pd.read_csv(\"Resources/new_temp.csv\")\n",
    "\n",
    "data3['Average Temperature']=data3['Average Temperature'].astype(float)\n",
    "\n",
    "# data3"
   ]
  },
  {
   "cell_type": "code",
   "execution_count": null,
   "metadata": {},
   "outputs": [],
   "source": [
    "#merging the two datasets\n",
    "\n",
    "merged = pd.concat([read_data,data3])\n",
    "\n",
    "merged.drop_duplicates(subset= [\"Countries\"], keep = False)\n",
    "\n",
    "merged"
   ]
  },
  {
   "cell_type": "code",
   "execution_count": null,
   "metadata": {},
   "outputs": [],
   "source": [
    "#reading the finilized csv file\n",
    "\n",
    "finilized_temp = pd.read_csv(\"Resources/temp_location.csv\" ,encoding='utf-8')\n",
    "\n",
    "finilized_temp"
   ]
  },
  {
   "cell_type": "markdown",
   "metadata": {},
   "source": [
    "### Calculating the number of teams based on their climates"
   ]
  },
  {
   "cell_type": "code",
   "execution_count": null,
   "metadata": {},
   "outputs": [],
   "source": [
    "cold = finilized_temp.loc[finilized_temp['Average Temperature'] <= 8]\n",
    "len(cold)"
   ]
  },
  {
   "cell_type": "code",
   "execution_count": null,
   "metadata": {},
   "outputs": [],
   "source": [
    "warm = finilized_temp.loc[(finilized_temp['Average Temperature'] >= 16) & (finilized_temp['Average Temperature'] <= 25)]\n",
    "len(warm)"
   ]
  },
  {
   "cell_type": "code",
   "execution_count": null,
   "metadata": {},
   "outputs": [],
   "source": [
    "hot = finilized_temp.loc[finilized_temp['Average Temperature'] >= 25]\n",
    "len(hot)"
   ]
  },
  {
   "cell_type": "code",
   "execution_count": null,
   "metadata": {},
   "outputs": [],
   "source": [
    "mild = finilized_temp.loc[(finilized_temp['Average Temperature'] >= 9) & (finilized_temp['Average Temperature'] <= 15)]\n",
    "len(mild)"
   ]
  },
  {
   "cell_type": "markdown",
   "metadata": {},
   "source": [
    "### Creating a pie chart to see the percentage of attendee teams based on the climate "
   ]
  },
  {
   "cell_type": "code",
   "execution_count": null,
   "metadata": {},
   "outputs": [],
   "source": [
    "numbers = [11, 23, 18, 24]\n",
    "\n",
    "explode = (0.1,0.1,0.1, 0.1)\n",
    "\n",
    "labels = [\"Cold Climate(8 C and below)\",\"Warm Climate (Between 16 C and 25 C)\", \"Hot Climate (25 C and above)\", \"Mild Climate (Between 9 C and 15 C)\"]\n",
    "\n",
    "colors = [\"lightblue\",\"orange\", \"red\", \"pink\"]\n",
    "\n",
    "fig=plt.pie(numbers, explode=explode, labels=labels, colors=colors,\n",
    "        autopct=\"%1.1f%%\", shadow=True, startangle=140)\n",
    "\n",
    "plt.axis(\"equal\")\n",
    "\n",
    "plt.savefig(\"Climate Pie Char.png\")\n",
    "\n",
    "plt.show()"
   ]
  },
  {
   "cell_type": "markdown",
   "metadata": {},
   "source": [
    "### Locations from the API data"
   ]
  },
  {
   "cell_type": "code",
   "execution_count": null,
   "metadata": {},
   "outputs": [],
   "source": [
    "locations = finilized_temp[[\"Latitude\", \"Longtitude\"]]\n",
    "\n",
    "rating = finilized_temp[\"Average Temperature\"].astype(float)"
   ]
  },
  {
   "cell_type": "markdown",
   "metadata": {},
   "source": [
    "##### Rendering the map shows host countries locations"
   ]
  },
  {
   "cell_type": "code",
   "execution_count": null,
   "metadata": {},
   "outputs": [],
   "source": [
    "\n",
    "\n",
    "#Basic Google heat map for relative temps by host country\n",
    "\n",
    "data = pd.read_csv('Resources/temp_location.csv')\n",
    "\n",
    "hosts = pd.read_csv('hosts.csv')\n",
    "\n",
    "\n",
    "hosts = pd.merge(hosts, data, on='Countries', how='left')\n",
    "locations = hosts[['Latitude', 'Longtitude']]\n",
    "weights = hosts['Average Temperature']\n",
    "fig = gmaps.figure()\n",
    "fig.add_layer(gmaps.heatmap_layer(locations, weights=weights.abs()))\n",
    "fig\n"
   ]
  },
  {
   "cell_type": "code",
   "execution_count": null,
   "metadata": {},
   "outputs": [],
   "source": [
    "# Reading the csv\n",
    "\n",
    "team_points = pd.read_csv(\"Resources/Team_Points.csv\" ,encoding='utf-8')\n",
    "\n",
    "# renamed_t_points = team_points.rename(columns={\"Team\":\"Countries\"})\n",
    "\n",
    "team_points.head()"
   ]
  },
  {
   "cell_type": "markdown",
   "metadata": {},
   "source": [
    "##### Creating a finilized data included all required info for the study"
   ]
  },
  {
   "cell_type": "code",
   "execution_count": null,
   "metadata": {},
   "outputs": [],
   "source": [
    "merge_table2 = pd.merge(finilized_temp, team_points, on=\"Countries\")\n",
    "\n",
    "merge_table2.head()\n",
    "\n",
    "# merge_table2.to_csv(\"merge_table2.csv\", encoding=\"utf-8\", index=False)"
   ]
  },
  {
   "cell_type": "code",
   "execution_count": null,
   "metadata": {},
   "outputs": [],
   "source": [
    "#It is to see the data's length\n",
    "\n",
    "\n",
    "print(len(merge_table2))\n",
    "print(len(cold))\n",
    "print(len(warm))\n",
    "print(len(hot))\n",
    "print(len(mild))"
   ]
  },
  {
   "cell_type": "code",
   "execution_count": null,
   "metadata": {},
   "outputs": [],
   "source": [
    "cold = merge_table2.loc[merge_table2['Average Temperature'] <= 8]\n",
    "\n",
    "cold[\"Points\"].sum()"
   ]
  },
  {
   "cell_type": "code",
   "execution_count": null,
   "metadata": {},
   "outputs": [],
   "source": [
    "warm = merge_table2.loc[(merge_table2['Average Temperature'] >= 16) & (merge_table2['Average Temperature'] <= 25)]\n",
    "\n",
    "warm[\"Points\"].sum()"
   ]
  },
  {
   "cell_type": "code",
   "execution_count": null,
   "metadata": {},
   "outputs": [],
   "source": [
    "hot = merge_table2.loc[merge_table2['Average Temperature'] >= 25]\n",
    "\n",
    "hot[\"Points\"].sum()"
   ]
  },
  {
   "cell_type": "code",
   "execution_count": null,
   "metadata": {},
   "outputs": [],
   "source": [
    "mild = merge_table2.loc[(merge_table2['Average Temperature'] >= 9) & (merge_table2['Average Temperature'] <= 15)]\n",
    "\n",
    "mild[\"Points\"].sum()"
   ]
  },
  {
   "cell_type": "markdown",
   "metadata": {},
   "source": [
    "##### Creating a dataframe for bar chart"
   ]
  },
  {
   "cell_type": "code",
   "execution_count": null,
   "metadata": {},
   "outputs": [],
   "source": [
    "points_comp = [{\"Climates\": \"Warm Climate\", \"Total Points\": 379},\n",
    "                {\"Climates\": \"Cold Climate\", \"Total Points\": 235},\n",
    "              {\"Climates\": \"Hot Climate\", \"Total Points\": 255},\n",
    "              {\"Climates\": \"Mild Climate\", \"Total Points\": 840}]\n",
    "\n",
    "\n",
    "df_points_comp = pd.DataFrame(points_comp)\n",
    "\n",
    "df_points_comp.set_index('Climates', inplace=True)\n",
    "\n",
    "df_points_comp"
   ]
  },
  {
   "cell_type": "code",
   "execution_count": null,
   "metadata": {
    "scrolled": true
   },
   "outputs": [],
   "source": [
    "#Creating the bar char\n",
    "\n",
    "bar_char = df_points_comp.plot(kind='bar', title =\"Point Comparitions\",figsize=(10,7),legend=True, fontsize=10)\n",
    "\n",
    "bar_char.set_xlabel(\"Climates\",fontsize=12)\n",
    "\n",
    "bar_char.set_ylabel(\"Total Points\",fontsize=12)\n",
    "\n",
    "plt.savefig(\"Climate Bar Char.png\")"
   ]
  },
  {
   "cell_type": "markdown",
   "metadata": {},
   "source": [
    "##### Web Scrapping from Wikipedia for the Champions Data"
   ]
  },
  {
   "cell_type": "code",
   "execution_count": null,
   "metadata": {},
   "outputs": [],
   "source": [
    "# Create file\n",
    "file = \"worldCupWinners.csv\"\n",
    "f = open(file, \"w\")\n",
    "\n",
    "# Get the url that we would like to scrape\n",
    "url = \"https://en.wikipedia.org/wiki/FIFA_World_Cup\"\n",
    "response = requests.get(url,headers={'User-Agent': 'Mozilla/5.0 (Macintosh; Intel Mac OS X 10_13_4) AppleWebKit/537.36 (KHTML, like Gecko) Chrome/35.0.1916.47 Safari/537.36'})\n",
    "page = soup(response.content, \"html.parser\")\n",
    "\n",
    "# Find the table we would like to turn into a csv\n",
    "table = page.find(\"table\", {\"style\": \"text-align:center;width:100%; font-size:90%;\"})\n",
    "\n",
    "# This creates a a list of webelements we can loop through\n",
    "tableRows = table.findAll(\"tr\")"
   ]
  },
  {
   "cell_type": "code",
   "execution_count": null,
   "metadata": {},
   "outputs": [],
   "source": [
    "# Creates headers for csv file.\n",
    "headers = \"Year,Hosts,Champions,Runners-up,Third place,Fourth place,No. of Teams\"\n",
    "f.write(headers)\n",
    "\n",
    "# Loops through the list of tablerows\n",
    "for tr in tableRows:\n",
    "\n",
    "    # Creates a list of elements in the iterated tablerow\n",
    "    td = tr.findAll('td')\n",
    "\n",
    "    # This iterates through each cell to place them in the file.\n",
    "    for i in td:\n",
    "        \n",
    "        #Formats i to not have errors\n",
    "        i = i.text.strip()\n",
    "        i = i.replace(\"\\n\", \"\")\n",
    "        i = i.replace(\",\", \" \")\n",
    "        \n",
    "        # Writes in cell\n",
    "        f.write(str(i))\n",
    "        \n",
    "        #Changes cells\n",
    "        f.write(\",\")\n",
    "    \n",
    "    # Changes rows\n",
    "    f.write(\"\\n\")\n",
    "\n",
    "# Closes csv\n",
    "f.close()"
   ]
  },
  {
   "cell_type": "code",
   "execution_count": null,
   "metadata": {},
   "outputs": [],
   "source": [
    "# This gives us three duplicate dataframes\n",
    "temp_data = pd.read_csv(\"Resources/temp_location.csv\")\n",
    "temp_data2 = temp_data\n",
    "temp_data3 = temp_data\n",
    "\n",
    "# Drops the columns we don't need\n",
    "temp_data = temp_data.drop('Latitude', 1)\n",
    "temp_data = temp_data.drop('Longtitude', 1)\n",
    "\n",
    "temp_data2 = temp_data2.drop('Latitude', 1)\n",
    "temp_data2 = temp_data2.drop('Longtitude', 1)\n",
    "\n",
    "temp_data3 = temp_data3.drop('Latitude', 1)\n",
    "temp_data3 = temp_data3.drop('Longtitude', 1)\n",
    "\n",
    "# Rename columns to be able to merge the three columns we need.\n",
    "temp_data = temp_data.rename(columns={\"Countries\": \"Home Team Name\"})\n",
    "temp_data2 = temp_data2.rename(columns={\"Countries\": \"Away Team Name\"})\n",
    "temp_data3 = temp_data3.rename(columns={\"Countries\": \"Winning Team\"})\n",
    "\n",
    "# These are the columns we are adding to our WC_DF dataframe\n",
    "temp_data = temp_data.rename(columns={\"Average Temperature\": \"Home Team Average Temperature\"})\n",
    "temp_data2 = temp_data2.rename(columns={\"Average Temperature\": \"Away Team Average Temperature\"})\n",
    "temp_data3 = temp_data3.rename(columns={\"Average Temperature\": \"Winning Team Average Temperature\"})\n",
    "\n",
    "temp_data.head()"
   ]
  },
  {
   "cell_type": "markdown",
   "metadata": {},
   "source": [
    "##### Creating a loop for adding the average temp of each teams to the dataset"
   ]
  },
  {
   "cell_type": "code",
   "execution_count": null,
   "metadata": {},
   "outputs": [],
   "source": [
    "# Get the main dataframe\n",
    "WC_df = pd.read_csv(\"Resources/WorldCupMatches_HG.csv\")\n",
    "\n",
    "# Creates list to loop through to get weather data\n",
    "cities = WC_df[\"City\"].tolist()\n",
    "\n",
    "# Url for the API\n",
    "url = \"https://api.worldweatheronline.com/premium/v1/past-weather.ashx\"\n",
    "\n",
    "# list to append weather data\n",
    "tempMax = []\n",
    "\n",
    "# Loop through cities list\n",
    "for city in cities:        \n",
    "    \n",
    "    # Url to get request\n",
    "    query_url = (f\"https://api.worldweatheronline.com/premium/v1/past-weather.ashx?q={city}&date=2019-07-13&enddate=2019-07-14&format=json&key=37cce7f949a141f7a3c224147202801\")\n",
    "    \n",
    "    # Gets response\n",
    "    response = requests.get(query_url).json()\n",
    "    data = response\n",
    "    \n",
    "    # Appends temperatures to tempMax list\n",
    "    try:\n",
    "        tempMax.append(data[\"data\"][\"weather\"][0][\"maxtempC\"])\n",
    "        print(f\"{city} is being processed now.\")\n",
    "    except KeyError:\n",
    "        tempMax.append(None)\n",
    "        print(f\"{city} is being skipped\")\n"
   ]
  },
  {
   "cell_type": "markdown",
   "metadata": {},
   "source": [
    "##### Exporting data"
   ]
  },
  {
   "cell_type": "code",
   "execution_count": null,
   "metadata": {},
   "outputs": [],
   "source": [
    "# Creates City Temperature column\n",
    "WC_df[\"City Temperature\"] = tempMax\n",
    "\n",
    "# Merges Home team temperature\n",
    "df = WC_df.merge(temp_data, on='Home Team Name', how='outer')\n",
    "\n",
    "# Merges Away team temperature\n",
    "df = df.merge(temp_data2, on='Away Team Name', how='outer')\n",
    "\n",
    "# Merges Winning team temperature\n",
    "df = df.merge(temp_data3, on='Winning Team', how='outer')\n",
    "df.to_csv(\"WorldCupMatchesUpdate.csv\")"
   ]
  }
 ],
 "metadata": {
  "kernelspec": {
   "display_name": "Python 3",
   "language": "python",
   "name": "python3"
  },
  "language_info": {
   "codemirror_mode": {
    "name": "ipython",
    "version": 3
   },
   "file_extension": ".py",
   "mimetype": "text/x-python",
   "name": "python",
   "nbconvert_exporter": "python",
   "pygments_lexer": "ipython3",
   "version": "3.7.6"
  }
 },
 "nbformat": 4,
 "nbformat_minor": 2
}
