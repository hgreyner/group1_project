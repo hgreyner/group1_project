{
 "cells": [
  {
   "cell_type": "code",
   "execution_count": 1,
   "metadata": {},
   "outputs": [],
   "source": [
    "%matplotlib inline\n"
   ]
  },
  {
   "cell_type": "code",
   "execution_count": 2,
   "metadata": {},
   "outputs": [
    {
     "ename": "FileNotFoundError",
     "evalue": "[Errno 2] File b'../project local/matYearCountry.csv' does not exist: b'../project local/matYearCountry.csv'",
     "output_type": "error",
     "traceback": [
      "\u001b[1;31m---------------------------------------------------------------------------\u001b[0m",
      "\u001b[1;31mFileNotFoundError\u001b[0m                         Traceback (most recent call last)",
      "\u001b[1;32m<ipython-input-2-3bf40c160e63>\u001b[0m in \u001b[0;36m<module>\u001b[1;34m\u001b[0m\n\u001b[0;32m     15\u001b[0m \u001b[1;33m\u001b[0m\u001b[0m\n\u001b[0;32m     16\u001b[0m \u001b[1;33m\u001b[0m\u001b[0m\n\u001b[1;32m---> 17\u001b[1;33m \u001b[0mdata\u001b[0m \u001b[1;33m=\u001b[0m \u001b[0mpd\u001b[0m\u001b[1;33m.\u001b[0m\u001b[0mread_csv\u001b[0m\u001b[1;33m(\u001b[0m\u001b[1;34m'../project local/matYearCountry.csv'\u001b[0m\u001b[1;33m)\u001b[0m\u001b[1;33m\u001b[0m\u001b[1;33m\u001b[0m\u001b[0m\n\u001b[0m\u001b[0;32m     18\u001b[0m \u001b[1;33m\u001b[0m\u001b[0m\n\u001b[0;32m     19\u001b[0m \u001b[0mdata\u001b[0m\u001b[1;33m.\u001b[0m\u001b[0mhead\u001b[0m\u001b[1;33m(\u001b[0m\u001b[1;33m)\u001b[0m\u001b[1;33m\u001b[0m\u001b[1;33m\u001b[0m\u001b[0m\n",
      "\u001b[1;32mC:\\ProgramData\\Anaconda3\\lib\\site-packages\\pandas\\io\\parsers.py\u001b[0m in \u001b[0;36mparser_f\u001b[1;34m(filepath_or_buffer, sep, delimiter, header, names, index_col, usecols, squeeze, prefix, mangle_dupe_cols, dtype, engine, converters, true_values, false_values, skipinitialspace, skiprows, skipfooter, nrows, na_values, keep_default_na, na_filter, verbose, skip_blank_lines, parse_dates, infer_datetime_format, keep_date_col, date_parser, dayfirst, cache_dates, iterator, chunksize, compression, thousands, decimal, lineterminator, quotechar, quoting, doublequote, escapechar, comment, encoding, dialect, error_bad_lines, warn_bad_lines, delim_whitespace, low_memory, memory_map, float_precision)\u001b[0m\n\u001b[0;32m    683\u001b[0m         )\n\u001b[0;32m    684\u001b[0m \u001b[1;33m\u001b[0m\u001b[0m\n\u001b[1;32m--> 685\u001b[1;33m         \u001b[1;32mreturn\u001b[0m \u001b[0m_read\u001b[0m\u001b[1;33m(\u001b[0m\u001b[0mfilepath_or_buffer\u001b[0m\u001b[1;33m,\u001b[0m \u001b[0mkwds\u001b[0m\u001b[1;33m)\u001b[0m\u001b[1;33m\u001b[0m\u001b[1;33m\u001b[0m\u001b[0m\n\u001b[0m\u001b[0;32m    686\u001b[0m \u001b[1;33m\u001b[0m\u001b[0m\n\u001b[0;32m    687\u001b[0m     \u001b[0mparser_f\u001b[0m\u001b[1;33m.\u001b[0m\u001b[0m__name__\u001b[0m \u001b[1;33m=\u001b[0m \u001b[0mname\u001b[0m\u001b[1;33m\u001b[0m\u001b[1;33m\u001b[0m\u001b[0m\n",
      "\u001b[1;32mC:\\ProgramData\\Anaconda3\\lib\\site-packages\\pandas\\io\\parsers.py\u001b[0m in \u001b[0;36m_read\u001b[1;34m(filepath_or_buffer, kwds)\u001b[0m\n\u001b[0;32m    455\u001b[0m \u001b[1;33m\u001b[0m\u001b[0m\n\u001b[0;32m    456\u001b[0m     \u001b[1;31m# Create the parser.\u001b[0m\u001b[1;33m\u001b[0m\u001b[1;33m\u001b[0m\u001b[1;33m\u001b[0m\u001b[0m\n\u001b[1;32m--> 457\u001b[1;33m     \u001b[0mparser\u001b[0m \u001b[1;33m=\u001b[0m \u001b[0mTextFileReader\u001b[0m\u001b[1;33m(\u001b[0m\u001b[0mfp_or_buf\u001b[0m\u001b[1;33m,\u001b[0m \u001b[1;33m**\u001b[0m\u001b[0mkwds\u001b[0m\u001b[1;33m)\u001b[0m\u001b[1;33m\u001b[0m\u001b[1;33m\u001b[0m\u001b[0m\n\u001b[0m\u001b[0;32m    458\u001b[0m \u001b[1;33m\u001b[0m\u001b[0m\n\u001b[0;32m    459\u001b[0m     \u001b[1;32mif\u001b[0m \u001b[0mchunksize\u001b[0m \u001b[1;32mor\u001b[0m \u001b[0miterator\u001b[0m\u001b[1;33m:\u001b[0m\u001b[1;33m\u001b[0m\u001b[1;33m\u001b[0m\u001b[0m\n",
      "\u001b[1;32mC:\\ProgramData\\Anaconda3\\lib\\site-packages\\pandas\\io\\parsers.py\u001b[0m in \u001b[0;36m__init__\u001b[1;34m(self, f, engine, **kwds)\u001b[0m\n\u001b[0;32m    893\u001b[0m             \u001b[0mself\u001b[0m\u001b[1;33m.\u001b[0m\u001b[0moptions\u001b[0m\u001b[1;33m[\u001b[0m\u001b[1;34m\"has_index_names\"\u001b[0m\u001b[1;33m]\u001b[0m \u001b[1;33m=\u001b[0m \u001b[0mkwds\u001b[0m\u001b[1;33m[\u001b[0m\u001b[1;34m\"has_index_names\"\u001b[0m\u001b[1;33m]\u001b[0m\u001b[1;33m\u001b[0m\u001b[1;33m\u001b[0m\u001b[0m\n\u001b[0;32m    894\u001b[0m \u001b[1;33m\u001b[0m\u001b[0m\n\u001b[1;32m--> 895\u001b[1;33m         \u001b[0mself\u001b[0m\u001b[1;33m.\u001b[0m\u001b[0m_make_engine\u001b[0m\u001b[1;33m(\u001b[0m\u001b[0mself\u001b[0m\u001b[1;33m.\u001b[0m\u001b[0mengine\u001b[0m\u001b[1;33m)\u001b[0m\u001b[1;33m\u001b[0m\u001b[1;33m\u001b[0m\u001b[0m\n\u001b[0m\u001b[0;32m    896\u001b[0m \u001b[1;33m\u001b[0m\u001b[0m\n\u001b[0;32m    897\u001b[0m     \u001b[1;32mdef\u001b[0m \u001b[0mclose\u001b[0m\u001b[1;33m(\u001b[0m\u001b[0mself\u001b[0m\u001b[1;33m)\u001b[0m\u001b[1;33m:\u001b[0m\u001b[1;33m\u001b[0m\u001b[1;33m\u001b[0m\u001b[0m\n",
      "\u001b[1;32mC:\\ProgramData\\Anaconda3\\lib\\site-packages\\pandas\\io\\parsers.py\u001b[0m in \u001b[0;36m_make_engine\u001b[1;34m(self, engine)\u001b[0m\n\u001b[0;32m   1133\u001b[0m     \u001b[1;32mdef\u001b[0m \u001b[0m_make_engine\u001b[0m\u001b[1;33m(\u001b[0m\u001b[0mself\u001b[0m\u001b[1;33m,\u001b[0m \u001b[0mengine\u001b[0m\u001b[1;33m=\u001b[0m\u001b[1;34m\"c\"\u001b[0m\u001b[1;33m)\u001b[0m\u001b[1;33m:\u001b[0m\u001b[1;33m\u001b[0m\u001b[1;33m\u001b[0m\u001b[0m\n\u001b[0;32m   1134\u001b[0m         \u001b[1;32mif\u001b[0m \u001b[0mengine\u001b[0m \u001b[1;33m==\u001b[0m \u001b[1;34m\"c\"\u001b[0m\u001b[1;33m:\u001b[0m\u001b[1;33m\u001b[0m\u001b[1;33m\u001b[0m\u001b[0m\n\u001b[1;32m-> 1135\u001b[1;33m             \u001b[0mself\u001b[0m\u001b[1;33m.\u001b[0m\u001b[0m_engine\u001b[0m \u001b[1;33m=\u001b[0m \u001b[0mCParserWrapper\u001b[0m\u001b[1;33m(\u001b[0m\u001b[0mself\u001b[0m\u001b[1;33m.\u001b[0m\u001b[0mf\u001b[0m\u001b[1;33m,\u001b[0m \u001b[1;33m**\u001b[0m\u001b[0mself\u001b[0m\u001b[1;33m.\u001b[0m\u001b[0moptions\u001b[0m\u001b[1;33m)\u001b[0m\u001b[1;33m\u001b[0m\u001b[1;33m\u001b[0m\u001b[0m\n\u001b[0m\u001b[0;32m   1136\u001b[0m         \u001b[1;32melse\u001b[0m\u001b[1;33m:\u001b[0m\u001b[1;33m\u001b[0m\u001b[1;33m\u001b[0m\u001b[0m\n\u001b[0;32m   1137\u001b[0m             \u001b[1;32mif\u001b[0m \u001b[0mengine\u001b[0m \u001b[1;33m==\u001b[0m \u001b[1;34m\"python\"\u001b[0m\u001b[1;33m:\u001b[0m\u001b[1;33m\u001b[0m\u001b[1;33m\u001b[0m\u001b[0m\n",
      "\u001b[1;32mC:\\ProgramData\\Anaconda3\\lib\\site-packages\\pandas\\io\\parsers.py\u001b[0m in \u001b[0;36m__init__\u001b[1;34m(self, src, **kwds)\u001b[0m\n\u001b[0;32m   1915\u001b[0m         \u001b[0mkwds\u001b[0m\u001b[1;33m[\u001b[0m\u001b[1;34m\"usecols\"\u001b[0m\u001b[1;33m]\u001b[0m \u001b[1;33m=\u001b[0m \u001b[0mself\u001b[0m\u001b[1;33m.\u001b[0m\u001b[0musecols\u001b[0m\u001b[1;33m\u001b[0m\u001b[1;33m\u001b[0m\u001b[0m\n\u001b[0;32m   1916\u001b[0m \u001b[1;33m\u001b[0m\u001b[0m\n\u001b[1;32m-> 1917\u001b[1;33m         \u001b[0mself\u001b[0m\u001b[1;33m.\u001b[0m\u001b[0m_reader\u001b[0m \u001b[1;33m=\u001b[0m \u001b[0mparsers\u001b[0m\u001b[1;33m.\u001b[0m\u001b[0mTextReader\u001b[0m\u001b[1;33m(\u001b[0m\u001b[0msrc\u001b[0m\u001b[1;33m,\u001b[0m \u001b[1;33m**\u001b[0m\u001b[0mkwds\u001b[0m\u001b[1;33m)\u001b[0m\u001b[1;33m\u001b[0m\u001b[1;33m\u001b[0m\u001b[0m\n\u001b[0m\u001b[0;32m   1918\u001b[0m         \u001b[0mself\u001b[0m\u001b[1;33m.\u001b[0m\u001b[0munnamed_cols\u001b[0m \u001b[1;33m=\u001b[0m \u001b[0mself\u001b[0m\u001b[1;33m.\u001b[0m\u001b[0m_reader\u001b[0m\u001b[1;33m.\u001b[0m\u001b[0munnamed_cols\u001b[0m\u001b[1;33m\u001b[0m\u001b[1;33m\u001b[0m\u001b[0m\n\u001b[0;32m   1919\u001b[0m \u001b[1;33m\u001b[0m\u001b[0m\n",
      "\u001b[1;32mpandas\\_libs\\parsers.pyx\u001b[0m in \u001b[0;36mpandas._libs.parsers.TextReader.__cinit__\u001b[1;34m()\u001b[0m\n",
      "\u001b[1;32mpandas\\_libs\\parsers.pyx\u001b[0m in \u001b[0;36mpandas._libs.parsers.TextReader._setup_parser_source\u001b[1;34m()\u001b[0m\n",
      "\u001b[1;31mFileNotFoundError\u001b[0m: [Errno 2] File b'../project local/matYearCountry.csv' does not exist: b'../project local/matYearCountry.csv'"
     ]
    }
   ],
   "source": [
    "import matplotlib.pyplot as plt\n",
    "import pandas as pd\n",
    "import numpy as np\n",
    "import requests\n",
    "import time\n",
    "from scipy.stats import linregress\n",
    "import gmaps\n",
    "import os\n",
    "import matplotlib.pyplot as plt\n",
    "import seaborn as sns\n",
    "\n",
    "# Import API key\n",
    "from config import key\n",
    "\n",
    "\n",
    "\n",
    "data = pd.read_csv('../project local/matYearCountry.csv')\n",
    "\n",
    "data.head()\n",
    "\n",
    "# data.to_csv(\"countries_temp_data.csv\", encoding=\"utf-8\", index=False)"
   ]
  },
  {
   "cell_type": "code",
   "execution_count": null,
   "metadata": {
    "scrolled": true
   },
   "outputs": [],
   "source": [
    "data2 = data[['France',\n",
    " 'Romania',\n",
    " 'Argentina',\n",
    " 'Chile',\n",
    " 'Uruguay',\n",
    " 'Brazil',\n",
    " 'Paraguay',\n",
    " 'Austria',\n",
    " 'Hungary',\n",
    " 'Switzerland',\n",
    " 'Sweden',\n",
    " 'Germany',\n",
    " 'Spain',\n",
    " 'Italy',\n",
    " 'Cuba',\n",
    " 'Turkey',\n",
    " 'Mexico',\n",
    " 'Portugal',\n",
    " 'Peru',\n",
    " 'Belgium',\n",
    " 'Bulgaria',\n",
    " 'Poland',\n",
    " 'Australia',\n",
    " 'Netherlands',\n",
    " 'Haiti',\n",
    " 'Tunisia',\n",
    " 'Algeria',\n",
    " 'Honduras',\n",
    " 'Canada',\n",
    " 'Morocco',\n",
    " 'Iraq',\n",
    " 'Denmark',\n",
    " 'United Arab Emirates',\n",
    " 'Costa Rica',\n",
    " 'Cameroon',\n",
    " 'Colombia',\n",
    " 'Norway',\n",
    " 'Nigeria',\n",
    " 'Saudi Arabia',\n",
    " 'Bolivia',\n",
    " 'Russia',\n",
    " 'Greece',\n",
    " 'Jamaica',\n",
    " 'South Africa',\n",
    " 'Japan',\n",
    " 'Croatia',\n",
    " 'Senegal',\n",
    " 'Slovenia',\n",
    " 'Ecuador',\n",
    " 'Angola',\n",
    " 'Czech Republic',\n",
    " 'Togo',\n",
    " 'Iran',\n",
    " 'Ghana',\n",
    " 'Ukraine',\n",
    " 'Serbia',\n",
    " 'New Zealand',\n",
    " 'Slovakia',\n",
    " 'Mexico',\n",
    " 'Belgium',\n",
    " 'Brazil',\n",
    " 'Peru',\n",
    " 'France',\n",
    " 'Bolivia',\n",
    " 'Paraguay',\n",
    " 'Romania',\n",
    " 'Chile',\n",
    " 'Argentina',\n",
    " 'Egypt',\n",
    " 'Netherlands',\n",
    " 'Switzerland',\n",
    " 'Sweden',\n",
    " 'Spain',\n",
    " 'Hungary',\n",
    " 'Austria',\n",
    " 'Germany',\n",
    " 'Norway',\n",
    " 'Poland',\n",
    " 'Cuba',\n",
    " 'Italy',\n",
    " 'Turkey',\n",
    " 'Uruguay',\n",
    " 'Colombia',\n",
    " 'Bulgaria',\n",
    " 'Portugal',\n",
    " 'Israel',\n",
    " 'Morocco',\n",
    " 'El Salvador',\n",
    " 'Australia',\n",
    " 'Haiti',\n",
    " 'Tunisia',\n",
    " 'Iran',\n",
    " 'Cameroon',\n",
    " 'New Zealand',\n",
    " 'Algeria',\n",
    " 'Honduras',\n",
    " 'Kuwait',\n",
    " 'Iraq',\n",
    " 'Denmark',\n",
    " 'Canada',\n",
    " 'United Arab Emirates',\n",
    " 'Costa Rica',\n",
    " 'Saudi Arabia',\n",
    " 'Russia',\n",
    " 'Greece',\n",
    " 'Nigeria',\n",
    " 'South Africa',\n",
    " 'Japan',\n",
    " 'Croatia',\n",
    " 'Jamaica',\n",
    " 'Senegal',\n",
    " 'Slovenia',\n",
    " 'Ecuador',\n",
    " 'Czech Republic',\n",
    " 'Ghana',\n",
    " 'Togo',\n",
    " 'Ukraine',\n",
    " 'Angola',\n",
    " 'Slovakia',\n",
    " 'Serbia']]\n",
    "\n",
    "data2.head()"
   ]
  },
  {
   "cell_type": "code",
   "execution_count": null,
   "metadata": {},
   "outputs": [],
   "source": [
    "mean = data2.mean().astype(int)\n",
    "\n",
    "temp_data = pd.DataFrame(mean)\n",
    "\n",
    "temp_data = temp_data.rename(columns={0:\"Average Temperature\"})\n",
    "\n",
    "# temp_data.columns = ['Countries', 'Average Temperature']\n",
    "\n",
    "temp_data\n",
    "\n",
    "# temp_data.to_csv(\"temp_data.csv\", encoding=\"utf-8\", index=False)\n",
    "\n",
    "read_data = pd.read_csv('../project local/temp_data.csv')\n",
    "\n",
    "read_data.drop_duplicates(['Countries'], keep='last')\n",
    "\n",
    "# read_data"
   ]
  },
  {
   "cell_type": "code",
   "execution_count": null,
   "metadata": {},
   "outputs": [],
   "source": [
    "data3 = pd.read_csv(\"new_temp.csv\" ,encoding='utf-8')\n",
    "\n",
    "data3['Average Temperature']=data3['Average Temperature'].astype(float)\n",
    "\n",
    "# data3"
   ]
  },
  {
   "cell_type": "code",
   "execution_count": null,
   "metadata": {},
   "outputs": [],
   "source": [
    "merged = pd.concat([read_data,data3])\n",
    "\n",
    "merged.drop_duplicates(subset= [\"Countries\"], keep = False)\n",
    "\n",
    "merged"
   ]
  },
  {
   "cell_type": "code",
   "execution_count": null,
   "metadata": {},
   "outputs": [],
   "source": [
    "finilized_temp = pd.read_csv(\"temp_location.csv\" ,encoding='utf-8')\n",
    "\n",
    "finilized_temp"
   ]
  },
  {
   "cell_type": "code",
   "execution_count": null,
   "metadata": {},
   "outputs": [],
   "source": [
    "cold = finilized_temp.loc[finilized_temp['Average Temperature'] <= 8]\n",
    "len(cold)"
   ]
  },
  {
   "cell_type": "code",
   "execution_count": null,
   "metadata": {},
   "outputs": [],
   "source": [
    "warm = finilized_temp.loc[(finilized_temp['Average Temperature'] >= 16) & (finilized_temp['Average Temperature'] <= 25)]\n",
    "len(warm)"
   ]
  },
  {
   "cell_type": "code",
   "execution_count": null,
   "metadata": {},
   "outputs": [],
   "source": [
    "hot = finilized_temp.loc[finilized_temp['Average Temperature'] >= 25]\n",
    "len(hot)"
   ]
  },
  {
   "cell_type": "code",
   "execution_count": null,
   "metadata": {},
   "outputs": [],
   "source": [
    "mild = finilized_temp.loc[(finilized_temp['Average Temperature'] >= 9) & (finilized_temp['Average Temperature'] <= 15)]\n",
    "len(mild)"
   ]
  },
  {
   "cell_type": "code",
   "execution_count": null,
   "metadata": {},
   "outputs": [],
   "source": [
    "numbers = [11, 23, 18, 24]\n",
    "\n",
    "explode = (0.1,0.1,0.1, 0.1)\n",
    "\n",
    "labels = [\"Cold Climate(8 C and below)\",\"Warm Climate (Between 16 C and 25 C)\", \"Hot Climate (25 C and above)\", \"Mild Climate (Between 9 C and 15 C)\"]\n",
    "\n",
    "colors = [\"lightblue\",\"orange\", \"red\", \"pink\"]\n",
    "\n",
    "fig=plt.pie(numbers, explode=explode, labels=labels, colors=colors,\n",
    "        autopct=\"%1.1f%%\", shadow=True, startangle=140)\n",
    "\n",
    "plt.axis(\"equal\")\n",
    "\n",
    "plt.savefig(\"Climate Pie Char.png\")\n",
    "\n",
    "plt.show()"
   ]
  },
  {
   "cell_type": "code",
   "execution_count": null,
   "metadata": {},
   "outputs": [],
   "source": [
    "locations = finilized_temp[[\"Latitude\", \"Longtitude\"]]\n",
    "\n",
    "rating = finilized_temp[\"Average Temperature\"].astype(float)"
   ]
  },
  {
   "cell_type": "code",
   "execution_count": null,
   "metadata": {},
   "outputs": [],
   "source": [
    "\n",
    "\n",
    "#Basic Google heat map for relative temps by host country\n",
    "\n",
    "data = pd.read_csv('temp_location.csv')\n",
    "\n",
    "hosts = pd.read_csv('hosts.csv')\n",
    "\n",
    "\n",
    "hosts = pd.merge(hosts, data, on='Countries', how='left')\n",
    "locations = hosts[['Latitude', 'Longtitude']]\n",
    "weights = hosts['Average Temperature']\n",
    "fig = gmaps.figure()\n",
    "fig.add_layer(gmaps.heatmap_layer(locations, weights=weights.abs()))\n",
    "fig\n"
   ]
  },
  {
   "cell_type": "code",
   "execution_count": null,
   "metadata": {},
   "outputs": [],
   "source": []
  },
  {
   "cell_type": "code",
   "execution_count": null,
   "metadata": {},
   "outputs": [],
   "source": []
  },
  {
   "cell_type": "code",
   "execution_count": null,
   "metadata": {},
   "outputs": [],
   "source": [
    "team_points = pd.read_csv(\"Team_Points.csv\" ,encoding='utf-8')\n",
    "\n",
    "# renamed_t_points = team_points.rename(columns={\"Team\":\"Countries\"})\n",
    "\n",
    "team_points.head()"
   ]
  },
  {
   "cell_type": "code",
   "execution_count": null,
   "metadata": {},
   "outputs": [],
   "source": [
    "merge_table2 = pd.merge(finilized_temp, team_points, on=\"Countries\")\n",
    "\n",
    "merge_table2.head()\n",
    "\n",
    "# merge_table2.to_csv(\"merge_table2.csv\", encoding=\"utf-8\", index=False)"
   ]
  },
  {
   "cell_type": "code",
   "execution_count": null,
   "metadata": {},
   "outputs": [],
   "source": [
    "print(len(merge_table2))\n",
    "print(len(cold))\n",
    "print(len(warm))\n",
    "print(len(hot))\n",
    "print(len(mild))"
   ]
  },
  {
   "cell_type": "code",
   "execution_count": null,
   "metadata": {},
   "outputs": [],
   "source": [
    "cold = merge_table2.loc[merge_table2['Average Temperature'] <= 8]\n",
    "\n",
    "cold[\"Points\"].sum()"
   ]
  },
  {
   "cell_type": "code",
   "execution_count": null,
   "metadata": {},
   "outputs": [],
   "source": [
    "warm = merge_table2.loc[(merge_table2['Average Temperature'] >= 16) & (merge_table2['Average Temperature'] <= 25)]\n",
    "\n",
    "warm[\"Points\"].sum()"
   ]
  },
  {
   "cell_type": "code",
   "execution_count": null,
   "metadata": {},
   "outputs": [],
   "source": [
    "hot = merge_table2.loc[merge_table2['Average Temperature'] >= 25]\n",
    "\n",
    "hot[\"Points\"].sum()"
   ]
  },
  {
   "cell_type": "code",
   "execution_count": null,
   "metadata": {},
   "outputs": [],
   "source": [
    "mild = merge_table2.loc[(merge_table2['Average Temperature'] >= 9) & (merge_table2['Average Temperature'] <= 15)]\n",
    "\n",
    "mild[\"Points\"].sum()"
   ]
  },
  {
   "cell_type": "code",
   "execution_count": null,
   "metadata": {},
   "outputs": [],
   "source": [
    "points_comp = [{\"Climates\": \"Warm Climate\", \"Total Points\": 379},\n",
    "                {\"Climates\": \"Cold Climate\", \"Total Points\": 235},\n",
    "              {\"Climates\": \"Hot Climate\", \"Total Points\": 255},\n",
    "              {\"Climates\": \"Mild Climate\", \"Total Points\": 840}]\n",
    "\n",
    "\n",
    "df_points_comp = pd.DataFrame(points_comp)\n",
    "\n",
    "df_points_comp.set_index('Climates', inplace=True)\n",
    "\n",
    "df_points_comp"
   ]
  },
  {
   "cell_type": "code",
   "execution_count": null,
   "metadata": {},
   "outputs": [],
   "source": [
    "bar_char = df_points_comp.plot(kind='bar', title =\"Point Comparitions\",figsize=(10,7),legend=True, fontsize=10)\n",
    "\n",
    "bar_char.set_xlabel(\"Climates\",fontsize=12)\n",
    "\n",
    "bar_char.set_ylabel(\"Total Points\",fontsize=12)\n",
    "\n",
    "plt.savefig(\"Climate Bar Char.png\")"
   ]
  },
  {
   "cell_type": "code",
   "execution_count": null,
   "metadata": {},
   "outputs": [],
   "source": []
  },
  {
   "cell_type": "code",
   "execution_count": null,
   "metadata": {},
   "outputs": [],
   "source": []
  },
  {
   "cell_type": "code",
   "execution_count": null,
   "metadata": {},
   "outputs": [],
   "source": []
  }
 ],
 "metadata": {
  "kernelspec": {
   "display_name": "Python 3",
   "language": "python",
   "name": "python3"
  }
 },
 "nbformat": 4,
 "nbformat_minor": 2
}
